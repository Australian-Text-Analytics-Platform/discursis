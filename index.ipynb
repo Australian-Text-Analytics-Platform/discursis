{
 "cells": [
  {
   "cell_type": "markdown",
   "id": "5934588d",
   "metadata": {},
   "source": [
    "# Discursis: conversation analysis and visualisation\n",
    "\n",
    "This repository contains notebooks to demonstrate Discursis, a conversational\n",
    "analysis and visualisation tool.\n",
    "\n",
    "If you want to install and use the Discursis tool in your own projects, see \n",
    "the [atap_widgets](https://github.com/Australian-Text-Analytics-Platform/atap_widgets)\n",
    "package.\n",
    "\n",
    "## User guide\n",
    "\n",
    "For a short introduction to the Discursis tool, please see the [user guide](https://raw.githubusercontent.com/Australian-Text-Analytics-Platform/discursis/master/docs/Discursis%20User%20Guide.pdf).\n",
    "\n",
    "## Notebooks\n",
    "\n",
    "The notebooks demonstrating Discursis are in Jupyter notebooks under `notebooks/`.\n",
    "\n",
    "Click the Binder badge to open a demo notebook directly in Binder, an online platform for hosting\n",
    "Jupyter notebooks:\n",
    "\n",
    "* Intro to Discursis: [![Launch on Binder](https://mybinder.org/badge_logo.svg)](https://binderhub.atap-binder.cloud.edu.au/v2/gh/Australian-Text-Analytics-Platform/discursis/master/?urlpath=lab/tree/notebooks/discursis_demo.ipynb)\n",
    "\n",
    "<b>Note:</b> CILogon authentication is required. You can use your institutional, Google or Microsoft account to login. If you have trouble authenticating, please refer to the [CILogon troubleshooting guide](cilogon-troubleshooting.pdf).\n",
    "\n",
    "* Backup Binder instance: [![Launch on Binder](https://mybinder.org/badge_logo.svg)](https://notebooks.gesis.org/binder/v2/gh/Australian-Text-Analytics-Platform/discursis/master/?urlpath=lab/tree/notebooks/discursis_demo.ipynb)\n",
    "\n",
    "Current version: [v0.0.1](https://github.com/Australian-Text-Analytics-Platform/discursis/releases/tag/v0.0.1)"
   ]
  },
  {
   "cell_type": "markdown",
   "id": "18179aab",
   "metadata": {},
   "source": [
    "This repository was created using a template from the [GLAM Workbench](https://glam-workbench.net/)."
   ]
  }
 ],
 "metadata": {
  "jupytext": {
   "cell_metadata_filter": "-all"
  },
  "kernelspec": {
   "display_name": "Python 3 (ipykernel)",
   "language": "python",
   "name": "python3"
  }
 },
 "nbformat": 4,
 "nbformat_minor": 5
}
